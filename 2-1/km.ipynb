{
 "cells": [
  {
   "cell_type": "code",
   "execution_count": 1,
   "metadata": {},
   "outputs": [
    {
     "name": "stdout",
     "output_type": "stream",
     "text": [
      "   movie  people  order  leading\n",
      "0  10001    4374      1        1\n",
      "1  10001     178      2        1\n",
      "2  10001    3241      3        1\n",
      "3  10001   47952      4        1\n",
      "4  10001   47953      5        0\n",
      "   movie country\n",
      "0  10001    이탈리아\n",
      "1  10001     프랑스\n",
      "2  10002      미국\n",
      "3  10003      미국\n",
      "4  10004      미국\n",
      "   movie   genre\n",
      "0  10001     드라마\n",
      "1  10001  멜로/로맨스\n",
      "2  10002      SF\n",
      "3  10002     코미디\n",
      "4  10003      SF\n",
      "['movie\\ttitle\\ttitle_eng\\tyear\\tgrade\\n', '10001\\t시네마 천국\\tCinema Paradiso , 1988\\t2013\\t전체 관람가\\n', '10002\\t빽 투 더 퓨쳐\\tBack To The Future , 1985\\t2015\\t12세 관람가\\n', '10003\\t빽 투 더 퓨쳐 2\\tBack To The Future Part 2 , 1989\\t2015\\t12세 관람가\\n', '10004\\t빽 투 더 퓨쳐 3\\tBack To The Future Part III , 1990\\t1990\\t전체 관람가\\n']\n",
      "['people\\tkorean\\toriginal\\n', '5\\t아담 볼드윈\\tAdam Baldwin\\n', '8\\t애드리안 라인\\tAdrian Lyne\\n', '9\\t에이단 퀸\\tAidan Quinn\\n', '13\\t구로사와 아키라\\tAkira Kurosawa\\n']\n",
      "   user  movie  rate        time\n",
      "0     0  10003     7  1494128040\n",
      "1     0  10004     7  1467529800\n",
      "2     0  10018     9  1513344120\n",
      "3     0  10021     9  1424497980\n",
      "4     0  10022     7  1427627340\n"
     ]
    }
   ],
   "source": [
    "import pandas as pd\n",
    "\n",
    "# 파일 경로 설정\n",
    "file_paths = {\n",
    "    \"castings.csv\": \"castings.csv\",\n",
    "    \"countries.csv\": \"countries.csv\",\n",
    "    \"genres.csv\": \"genres.csv\",\n",
    "    \"movies.txt\": \"movies.txt\",\n",
    "    \"peoples.txt\": \"peoples.txt\",\n",
    "    \"rates.csv\": \"rates.csv\"\n",
    "}\n",
    "\n",
    "for file_name, file_path in file_paths.items():\n",
    "    try:\n",
    "        if file_name.endswith(\".csv\"):\n",
    "            df = pd.read_csv(file_path)\n",
    "            print(df.head())\n",
    "        else:\n",
    "            with open(file_path, 'r', encoding='utf-8') as f:\n",
    "                print(f.readlines()[:5])\n",
    "    except Exception as e:\n",
    "        print(f\"Error reading {file_name}: {e}\")\n"
   ]
  }
 ],
 "metadata": {
  "kernelspec": {
   "display_name": "Python 3",
   "language": "python",
   "name": "python3"
  },
  "language_info": {
   "codemirror_mode": {
    "name": "ipython",
    "version": 3
   },
   "file_extension": ".py",
   "mimetype": "text/x-python",
   "name": "python",
   "nbconvert_exporter": "python",
   "pygments_lexer": "ipython3",
   "version": "3.11.5"
  }
 },
 "nbformat": 4,
 "nbformat_minor": 2
}
