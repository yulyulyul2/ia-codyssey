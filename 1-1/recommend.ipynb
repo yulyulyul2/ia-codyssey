{
 "cells": [
  {
   "cell_type": "markdown",
   "id": "e7e70f2f",
   "metadata": {},
   "source": [
    "다음 코드는 다양한 접근 조회 방법을 실험하는 함수와 저의 추천 함수입니다.\n",
    "해당 문제는 주관적인 본인의 기준으로 추천하는 코드를 개발하는 게 목표이기 때문에, \n",
    "저는 제가 좋아하는 장르인 \"드라마\"의 영화를 랜덤으로, 개수는 5개 정도가 적당하다 생각해 최대 5개를 설정했습니다. "
   ]
  },
  {
   "cell_type": "code",
   "execution_count": 2,
   "id": "95c54b24",
   "metadata": {},
   "outputs": [],
   "source": [
    "import pandas as pd\n",
    "\n",
    "def find_movies_by_actor(df, actor_name):\n",
    "    result = df[df['출연진'].str.contains(rf'\\b{actor_name}\\b', case=False)]\n",
    "    if result.empty:\n",
    "        return (f\"출연진에 '{actor_name}'이 해당하는 영화가 없습니다.\")\n",
    "    else:\n",
    "        return result\n",
    "\n",
    "def find_movies_by_movieDirector(df, actor_name):\n",
    "    result = df[df['감독'].str.contains(rf'\\b{actor_name}\\b', case=False)]\n",
    "    if result.empty:\n",
    "        return (f\"감독에 '{actor_name}'이 해당하는 영화가 없습니다.\")\n",
    "    else:\n",
    "        return result\n",
    "\n",
    "def find_movies_by_genre(df, actor_name):\n",
    "    result = df[df['장르'].str.contains(rf'\\b{actor_name}\\b', case=False)]\n",
    "    if result.empty:\n",
    "        return (f\"장르에 '{actor_name}'이 해당하는 영화가 없습니다.\")\n",
    "    else:\n",
    "        return result\n",
    "    \n",
    "def my_recommend(df):\n",
    "    result = df[df['장르'].str.contains(rf'\\b드라마\\b', case=False, na=False)]\n",
    "    if len(result) >= 5:\n",
    "        return result.sample(5)\n",
    "    else:\n",
    "        return result"
   ]
  },
  {
   "cell_type": "markdown",
   "id": "f6d88236",
   "metadata": {},
   "source": [
    "다음 코드는 데이터를 활용하여 각각의 수를 구하고, 위의 함수를 사용하는 코드입니다."
   ]
  },
  {
   "cell_type": "code",
   "execution_count": 3,
   "id": "2a393d8a-f264-411c-a013-d73b756bc7cd",
   "metadata": {},
   "outputs": [
    {
     "name": "stdout",
     "output_type": "stream",
     "text": [
      "영화 개수: 59\n",
      "배급사 수: 55\n",
      "감독 수: 58\n",
      "출연진 수: 262\n",
      "장르 수: 14\n",
      "\n",
      "           개봉일         제목             배급사   감독                           출연진  \\\n",
      "30  2023-04-12    사랑의 고고학        (주)엣나인필름  이완민                  옥자연, 기윤, 하민호   \n",
      "23  2023-03-29  찬란한 나의 복수   영화배급협동조합 씨네소파  임성운                 허준석, 이영석, 남보라   \n",
      "20  2023-03-29    여섯 개의 밤        (주)인디스토리  최창환  강길우, 강진아, 김시은, 변중희, 이한주, 정수지   \n",
      "34  2023-04-12       물안에서  영화제작전원사, 콘텐츠판다  홍상수       신석호, 하성국, 김승윤, 김민희, 김소령   \n",
      "47  2023-05-31      드림팰리스        (주)인디스토리  가성문            김선영, 이윤지, 최민영, 김용준   \n",
      "\n",
      "                 장르  \n",
      "30              드라마  \n",
      "23              드라마  \n",
      "20  드라마, 멜로·로맨스, 가족  \n",
      "34              드라마  \n",
      "47              드라마  \n"
     ]
    }
   ],
   "source": [
    "\n",
    "try:\n",
    "    df = pd.read_csv('prob-0101.csv')\n",
    "    print(f\"영화 개수: {len(df)}\")\n",
    "    print(f\"배급사 수: {df['배급사'].str.split(',').explode().str.strip().nunique()}\")\n",
    "    print(f\"감독 수: {df['감독'].nunique()}\")\n",
    "    print(f\"출연진 수: {df['출연진'].str.split(',').explode().str.strip().nunique()}\")\n",
    "    print(f\"장르 수: {df['장르'].str.split(r'[,/·]').explode().str.strip().nunique()}\\n\")\n",
    "\n",
    "    # print(f'{find_movies_by_actor(df, \"지연\")}\\n')\n",
    "    # print(f'{find_movies_by_movieDirector(df, \"김현정\")}\\n')\n",
    "    # print(f'{find_movies_by_genre(df, \"로맨스\")}\\n')\n",
    "    \n",
    "    print(my_recommend(df))\n",
    "except FileNotFoundError:\n",
    "    print(\"파일이 존재하지 않습니다\")\n"
   ]
  }
 ],
 "metadata": {
  "kernelspec": {
   "display_name": "venv",
   "language": "python",
   "name": "python3"
  },
  "language_info": {
   "codemirror_mode": {
    "name": "ipython",
    "version": 3
   },
   "file_extension": ".py",
   "mimetype": "text/x-python",
   "name": "python",
   "nbconvert_exporter": "python",
   "pygments_lexer": "ipython3",
   "version": "3.11.5"
  }
 },
 "nbformat": 4,
 "nbformat_minor": 5
}
