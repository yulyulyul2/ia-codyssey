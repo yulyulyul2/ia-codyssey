{
 "cells": [
  {
   "cell_type": "markdown",
   "id": "e7e70f2f",
   "metadata": {},
   "source": [
    "다음 코드는 다양한 접근 조회 방법을 실험하는 함수와 저의 추천 함수입니다.\n",
    "해당 문제는 주관적인 본인의 기준으로 추천하는 코드를 개발하는 게 목표이기 때문에, \n",
    "저는 제가 좋아하는 장르인 \"드라마\"의 영화를 추천했습니다. \n",
    "데이터 프레임에 장르에 해당하는 문자열에 \"드라마\"가 포함되어 있는 영화 최대 두번째 매개변수만큼의 갯수를 랜덤으로 출력하게 했습니다."
   ]
  },
  {
   "cell_type": "code",
   "execution_count": 7,
   "id": "95c54b24",
   "metadata": {},
   "outputs": [],
   "source": [
    "import pandas as pd\n",
    "\n",
    "def find_movies_by_actor(df, actor_name):\n",
    "    result = df[df['출연진'].str.contains(rf'\\b{actor_name}\\b', case=False)]\n",
    "    if result.empty:\n",
    "        return (f\"출연진에 '{actor_name}'이 해당하는 영화가 없습니다.\")\n",
    "    else:\n",
    "        return result\n",
    "\n",
    "def find_movies_by_director(df, director):\n",
    "    result = df[df['감독'].str.contains(rf'\\b{director}\\b', case=False)]\n",
    "    if result.empty:\n",
    "        return (f\"감독에 '{director}'이 해당하는 영화가 없습니다.\")\n",
    "    else:\n",
    "        return result\n",
    "\n",
    "def find_movies_by_genre(df, genre):\n",
    "    result = df[df['장르'].str.contains(rf'\\b{genre}\\b', case=False)]\n",
    "    if result.empty:\n",
    "        return (f\"장르에 '{genre}'이 해당하는 영화가 없습니다.\")\n",
    "    else:\n",
    "        return result\n",
    "    \n",
    "def my_recommend(df, num):\n",
    "    result = df[df['장르'].str.contains(rf'\\b드라마\\b', case=False, na=False)]\n",
    "    if len(result) >= num:\n",
    "        return result.sample(num)\n",
    "    else:\n",
    "        return result"
   ]
  },
  {
   "cell_type": "markdown",
   "id": "f6d88236",
   "metadata": {},
   "source": [
    "다음 코드는 데이터를 활용하여 각각의 수를 구하고, 위의 함수를 사용하는 코드입니다."
   ]
  },
  {
   "cell_type": "code",
   "execution_count": 8,
   "id": "2a393d8a-f264-411c-a013-d73b756bc7cd",
   "metadata": {},
   "outputs": [
    {
     "name": "stdout",
     "output_type": "stream",
     "text": [
      "전체 영화 개수: 59\n",
      "중복을 제외한 배급사 수: 55\n",
      "중복을 제외한 감독 수: 62\n",
      "중복을 제외한 출연진 수: 262\n",
      "중복을 제외한 장르 수: 14\n",
      "\n",
      "           개봉일        제목            배급사   감독  \\\n",
      "27  2023-04-05  오늘 출가합니다      (주)트리플픽쳐스  김성환   \n",
      "4   2023-01-18        교섭     플렉스엠엔터테인먼트  임순례   \n",
      "15  2023-03-01       멍뭉이  (주)와이웍스엔터테인먼트  김주환   \n",
      "38  2023-04-19     튤립 모양         삼거리픽쳐스  양윤모   \n",
      "29  2023-04-06    솔라 플라워         ㈜스토리제이  한경탁   \n",
      "\n",
      "                                           출연진          장르  \n",
      "27                                    양홍주, 나현준         드라마  \n",
      "4                                 황정민, 현빈, 강기영         드라마  \n",
      "15                                    유연석, 차태현         드라마  \n",
      "38                유다인, 김다현, 문희경, 김정균, 진혜원, 이지용         드라마  \n",
      "29  오원빈, 서지희, 심현탁, 박정철, 김수하, 김민, 김봉주, 조수빈, 정병훈  멜로,로맨스,드라마  \n"
     ]
    }
   ],
   "source": [
    "\n",
    "try:\n",
    "    df = pd.read_csv('prob-0101.csv')\n",
    "    print(f\"전체 영화 개수: {len(df)}\")\n",
    "    print(f\"중복을 제외한 배급사 수: {df['배급사'].str.split(',').explode().str.strip().nunique()}\")\n",
    "    print(f\"중복을 제외한 감독 수: {df['감독'].str.split(',').explode().str.strip().nunique()}\")\n",
    "    print(f\"중복을 제외한 출연진 수: {df['출연진'].str.split(',').explode().str.strip().nunique()}\")\n",
    "    print(f\"중복을 제외한 장르 수: {df['장르'].str.split(r'[,/·]').explode().str.strip().nunique()}\\n\")\n",
    "    \n",
    "    print(my_recommend(df, 5))\n",
    "except FileNotFoundError:\n",
    "    print(\"파일이 존재하지 않습니다\")\n"
   ]
  },
  {
   "cell_type": "code",
   "execution_count": 12,
   "id": "35d9a9b7",
   "metadata": {},
   "outputs": [
    {
     "name": "stdout",
     "output_type": "stream",
     "text": [
      "영화가 하루에 2편 이상 개봉한 날짜\n",
      "개봉일\n",
      "2023-04-12    6\n",
      "2023-03-29    5\n",
      "2023-04-05    4\n",
      "2023-05-10    3\n",
      "2023-06-21    3\n",
      "2023-02-08    3\n",
      "2023-06-28    2\n",
      "2023-06-07    2\n",
      "2023-05-31    2\n",
      "2023-03-01    2\n",
      "2023-02-22    2\n",
      "2023-06-08    2\n",
      "2023-01-18    2\n",
      "2023-01-12    2\n",
      "2023-04-19    2\n",
      "Name: count, dtype: int64\n",
      "\n",
      "가장 많은 수의 영화가 개봉한 날짜\n",
      "개봉일\n",
      "2023-04-12    6\n",
      "Name: count, dtype: int64\n"
     ]
    }
   ],
   "source": [
    "value_counts = df['개봉일'].value_counts()\n",
    "print(\"영화가 하루에 2편 이상 개봉한 날짜\")\n",
    "print(value_counts[value_counts >= 2])\n",
    "print(\"\\n가장 많은 수의 영화가 개봉한 날짜\")\n",
    "print(value_counts.nlargest(1))\n"
   ]
  },
  {
   "cell_type": "code",
   "execution_count": 17,
   "id": "4770ac5a",
   "metadata": {},
   "outputs": [
    {
     "name": "stdout",
     "output_type": "stream",
     "text": [
      "           개봉일   제목        배급사   감독  \\\n",
      "22  2023-03-29  웅남이  (주)CJ CGV  박성광   \n",
      "58  2023-06-28   라방     트리플픽쳐스  최주연   \n",
      "\n",
      "                                            출연진       장르  \n",
      "22  박성웅, 이이경, 염혜란, 최민수, 오달수, 윤제문, 백지혜, 서동원, 한다솔  코미디, 액션  \n",
      "58                                박성웅, 박선호, 김희정      스릴러  \n",
      "\n",
      "           개봉일  제목            배급사   감독  \\\n",
      "39  2023-04-26  드림  (주)플렉스엠엔터테인먼트  이병헌   \n",
      "\n",
      "                                                 출연진   장르  \n",
      "39  박서준, 아이유, 김종수, 고창석, 정승길, 이현우, 양현민, 홍완표, 허준석, 이하늬  드라마  \n",
      "\n"
     ]
    }
   ],
   "source": [
    "print(f'{find_movies_by_actor(df, \"박성웅\")}\\n')\n",
    "print(f'{find_movies_by_director(df, \"최하나\")}\\n')\n",
    "# print(f'{find_movies_by_genre(df, \"로맨스\")}\\n')"
   ]
  }
 ],
 "metadata": {
  "kernelspec": {
   "display_name": "venv",
   "language": "python",
   "name": "python3"
  },
  "language_info": {
   "codemirror_mode": {
    "name": "ipython",
    "version": 3
   },
   "file_extension": ".py",
   "mimetype": "text/x-python",
   "name": "python",
   "nbconvert_exporter": "python",
   "pygments_lexer": "ipython3",
   "version": "3.11.5"
  }
 },
 "nbformat": 4,
 "nbformat_minor": 5
}
